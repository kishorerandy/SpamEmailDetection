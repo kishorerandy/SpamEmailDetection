{
  "nbformat": 4,
  "nbformat_minor": 0,
  "metadata": {
    "colab": {
      "provenance": [],
      "toc_visible": true
    },
    "kernelspec": {
      "name": "python3",
      "display_name": "Python 3"
    },
    "language_info": {
      "name": "python"
    }
  },
  "cells": [
    {
      "cell_type": "code",
      "execution_count": null,
      "metadata": {
        "colab": {
          "base_uri": "https://localhost:8080/"
        },
        "id": "DOQjEnY30ohB",
        "outputId": "30744fb6-9649-49cf-dfd9-7d8ce53c9431"
      },
      "outputs": [
        {
          "output_type": "stream",
          "name": "stdout",
          "text": [
            "Accuracy: 0.5\n",
            "Classification Report:\n",
            "               precision    recall  f1-score   support\n",
            "\n",
            "           0       0.00      0.00      0.00         1\n",
            "           1       0.50      1.00      0.67         1\n",
            "\n",
            "    accuracy                           0.50         2\n",
            "   macro avg       0.25      0.50      0.33         2\n",
            "weighted avg       0.25      0.50      0.33         2\n",
            "\n",
            "Model training complete!\n",
            "\n",
            "Email:\n",
            "Subject: Win a free vacation now!\n",
            "Body: Click the link to claim your reward today. Limited time offer!\n",
            "Prediction: Spam\n"
          ]
        },
        {
          "output_type": "stream",
          "name": "stderr",
          "text": [
            "[nltk_data] Downloading package stopwords to /root/nltk_data...\n",
            "[nltk_data]   Package stopwords is already up-to-date!\n",
            "/usr/local/lib/python3.11/dist-packages/sklearn/metrics/_classification.py:1565: UndefinedMetricWarning: Precision is ill-defined and being set to 0.0 in labels with no predicted samples. Use `zero_division` parameter to control this behavior.\n",
            "  _warn_prf(average, modifier, f\"{metric.capitalize()} is\", len(result))\n",
            "/usr/local/lib/python3.11/dist-packages/sklearn/metrics/_classification.py:1565: UndefinedMetricWarning: Precision is ill-defined and being set to 0.0 in labels with no predicted samples. Use `zero_division` parameter to control this behavior.\n",
            "  _warn_prf(average, modifier, f\"{metric.capitalize()} is\", len(result))\n",
            "/usr/local/lib/python3.11/dist-packages/sklearn/metrics/_classification.py:1565: UndefinedMetricWarning: Precision is ill-defined and being set to 0.0 in labels with no predicted samples. Use `zero_division` parameter to control this behavior.\n",
            "  _warn_prf(average, modifier, f\"{metric.capitalize()} is\", len(result))\n"
          ]
        }
      ],
      "source": [
        "import pandas as pd\n",
        "import random\n",
        "import uuid\n",
        "import re\n",
        "import string\n",
        "import nltk\n",
        "from nltk.corpus import stopwords\n",
        "from sklearn.feature_extraction.text import TfidfVectorizer\n",
        "from sklearn.model_selection import train_test_split\n",
        "from sklearn.linear_model import LogisticRegression\n",
        "from sklearn.metrics import accuracy_score, classification_report\n",
        "\n",
        "# Download stopwords\n",
        "nltk.download('stopwords')\n",
        "\n",
        "# Load dataset\n",
        "file_path = \"/content/email_spam_dataset.csv\"\n",
        "df = pd.read_csv(file_path)\n",
        "\n",
        "# Clean text function\n",
        "def clean_text(text):\n",
        "    if pd.isna(text):\n",
        "        return \"\"\n",
        "    text = text.lower()  # Convert to lowercase\n",
        "    text = re.sub(f\"[{re.escape(string.punctuation)}]\", \"\", text)  # Remove punctuation\n",
        "    text = \" \".join([word for word in text.split() if word not in stopwords.words('english')])  # Remove stopwords\n",
        "    return text\n",
        "\n",
        "# Clean subject and body\n",
        "df[\"clean_subject\"] = df[\"subject\"].apply(clean_text)\n",
        "df[\"clean_body\"] = df[\"body\"].apply(clean_text)\n",
        "df[\"text\"] = df[\"clean_subject\"] + \" \" + df[\"clean_body\"]\n",
        "\n",
        "# TF-IDF vectorization\n",
        "vectorizer = TfidfVectorizer(max_features=5000)\n",
        "X = vectorizer.fit_transform(df[\"text\"])\n",
        "y = df[\"spam\"]\n",
        "\n",
        "# Train/test split\n",
        "X_train, X_test, y_train, y_test = train_test_split(X, y, test_size=0.2, random_state=42)\n",
        "\n",
        "# Model training\n",
        "model = LogisticRegression()\n",
        "model.fit(X_train, y_train)\n",
        "\n",
        "# Predictions and evaluation\n",
        "y_pred = model.predict(X_test)\n",
        "accuracy = accuracy_score(y_test, y_pred)\n",
        "print(\"Accuracy:\", accuracy)\n",
        "print(\"Classification Report:\\n\", classification_report(y_test, y_pred))\n",
        "print(\"Model training complete!\")\n",
        "\n",
        "# Email prediction function\n",
        "def predict_email(subject, body):\n",
        "    email_text = clean_text(subject) + \" \" + clean_text(body)\n",
        "    email_vector = vectorizer.transform([email_text])\n",
        "    prediction = model.predict(email_vector)[0]\n",
        "    result = \"Spam\" if prediction == 1 else \"Not Spam\"\n",
        "    print(\"\\nEmail:\")\n",
        "    print(\"Subject:\", subject)\n",
        "    print(\"Body:\", body)\n",
        "    print(\"Prediction:\", result)\n",
        "    return result\n",
        "\n",
        "# Sample prediction\n",
        "sample_subject = \"Win a free vacation now!\"\n",
        "sample_body = \"Click the link to claim your reward today. Limited time offer!\"\n",
        "prediction_result = predict_email(sample_subject, sample_body)"
      ]
    },
    {
      "cell_type": "code",
      "source": [
        "import pandas as pd\n",
        "\n",
        "# Sample data\n",
        "data = {\n",
        "    \"subject\": [\n",
        "        \"Win a free iPhone now!\",\n",
        "        \"Meeting agenda for Monday\",\n",
        "        \"Limited time offer just for you\",\n",
        "        \"Your Amazon order has shipped\",\n",
        "        \"Get rich quick with this trick\",\n",
        "        \"Weekly project update\",\n",
        "    ],\n",
        "    \"body\": [\n",
        "        \"Click here to claim your free iPhone. Offer ends soon.\",\n",
        "        \"Please review the agenda and bring notes.\",\n",
        "        \"Act fast! This deal won't last long. Click the link now.\",\n",
        "        \"Your order #12345 has been shipped. Track it here.\",\n",
        "        \"Make thousands working from home. Sign up now.\",\n",
        "        \"Here is the progress report for this week.\",\n",
        "    ],\n",
        "    \"spam\": [1, 0, 1, 0, 1, 0]  # 1 = spam, 0 = not spam\n",
        "}\n",
        "\n",
        "# Create DataFrame and save as CSV\n",
        "df = pd.DataFrame(data)\n",
        "df.to_csv(\"email_spam_dataset.csv\", index=False)\n",
        "\n",
        "print(\"Sample dataset created and saved as 'email_spam_dataset.csv'\")"
      ],
      "metadata": {
        "colab": {
          "base_uri": "https://localhost:8080/"
        },
        "id": "yrH52Zqf1LHf",
        "outputId": "992805ef-96a7-42dc-9a6d-53b61c437e63"
      },
      "execution_count": null,
      "outputs": [
        {
          "output_type": "stream",
          "name": "stdout",
          "text": [
            "Sample dataset created and saved as 'email_spam_dataset.csv'\n"
          ]
        }
      ]
    }
  ]
}